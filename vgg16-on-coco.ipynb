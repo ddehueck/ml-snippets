{
 "cells": [
  {
   "cell_type": "code",
   "execution_count": 1,
   "metadata": {
    "collapsed": true
   },
   "outputs": [],
   "source": [
    "import torch\n",
    "import torch.nn as nn\n",
    "import torch.optim as optim\n",
    "import torchvision.models as models\n",
    "import torchvision.datasets as dset\n",
    "import torchvision.transforms as transforms"
   ]
  },
  {
   "cell_type": "code",
   "execution_count": 2,
   "metadata": {},
   "outputs": [
    {
     "name": "stdout",
     "output_type": "stream",
     "text": [
      "loading annotations into memory...\n",
      "Done (t=11.14s)\n",
      "creating index...\n",
      "index created!\n"
     ]
    }
   ],
   "source": [
    "DEVICE = torch.device(\"cuda:0\" if torch.cuda.is_available() else \"cpu\")\n",
    "\n",
    "vgg16 = models.vgg16(pretrained=True)\n",
    "normalize = transforms.Normalize(mean=[0.485, 0.456, 0.406],\n",
    "                                 std=[0.229, 0.224, 0.225])\n",
    "coco_dset = dset.CocoDetection(\n",
    "    root = '/Users/Devin/Documents/ml/datasets/coco/train2014', \n",
    "    annFile = '/Users/Devin/Documents/ml/datasets/coco/annotations/instances_train2014.json',\n",
    "    transform = transforms.Compose([\n",
    "        transforms.Scale((240, 240), interpolation=2),\n",
    "        transforms.ToTensor(),\n",
    "        normalize\n",
    "    ]),\n",
    ")\n",
    "\n",
    "dataloader = torch.utils.data.DataLoader(coco_dset, batch_size=1, shuffle=True, num_workers=2)"
   ]
  },
  {
   "cell_type": "code",
   "execution_count": 3,
   "metadata": {
    "collapsed": true
   },
   "outputs": [],
   "source": [
    "class CocoVGG(nn.Module):\n",
    "    def __init__(self, vgg_base):\n",
    "        super(CocoVGG, self).__init__()\n",
    "        self.features = vgg_base.features\n",
    "        self.classifier = nn.Sequential(\n",
    "            nn.Dropout(),\n",
    "            nn.Linear(7*7*512, 4096),\n",
    "            nn.ReLU(inplace=True),\n",
    "            nn.Dropout(),\n",
    "            nn.Linear(4096, 4096),\n",
    "            nn.ReLU(inplace=True),\n",
    "            nn.Linear(4096, 91), # 80 classes used in COCO2014 dataset but 91 indices\n",
    "        )\n",
    "        \n",
    "        # Freeze features\n",
    "        for param in self.features.parameters():\n",
    "            param.requires_grad = False\n",
    "        \n",
    "    def forward(self, x):\n",
    "        x = self.features(x)\n",
    "        x = x.view(x.size(0), -1) # vector before classifier\n",
    "        y = self.classifier(x)\n",
    "        return y\n",
    "    \n",
    "def convert_coco_target(coco_target):\n",
    "    cat_ids = [d['category_id'].item() for d in coco_target]\n",
    "    target = []\n",
    "    for i in range(0, 91): # 80 classes in COCO dataset?\n",
    "        if (i + 1) in cat_ids: # classes 1 indexed\n",
    "            target.append(1.0)\n",
    "        else:\n",
    "            target.append(0.0)\n",
    "    return torch.Tensor([target])"
   ]
  },
  {
   "cell_type": "code",
   "execution_count": 4,
   "metadata": {
    "collapsed": true
   },
   "outputs": [],
   "source": [
    "fine_model = CocoVGG(vgg16)\n",
    "optimizer = optim.Adam(fine_model.parameters(), lr=0.001)\n",
    "criterion = nn.MultiLabelSoftMarginLoss() #multi-class labels"
   ]
  },
  {
   "cell_type": "code",
   "execution_count": null,
   "metadata": {},
   "outputs": [
    {
     "name": "stdout",
     "output_type": "stream",
     "text": [
      "0.10444652289152145\n",
      "0.1588288023072528\n",
      "0.16218551138362938\n",
      "0.16951249996140064\n"
     ]
    }
   ],
   "source": [
    "for epoch in range(0, 10):\n",
    "    running_loss = 0.0\n",
    "    for i, data in enumerate(dataloader):\n",
    "        data_input, coco_target = data\n",
    "        new_target = convert_coco_target(coco_target)\n",
    "        \n",
    "        optimizer.zero_grad()\n",
    "        preds = fine_model(data_input)\n",
    "        \n",
    "        loss = criterion(preds, new_target)\n",
    "        loss.backward()\n",
    "        optimizer.step()\n",
    "\n",
    "        # print statistics\n",
    "        running_loss += loss.item()\n",
    "        \n",
    "        if i % 100 == 0:\n",
    "            print(running_loss/(i+1))\n",
    "    print('Epoch: %d | loss: %.3f' % (epoch + 1, running_loss / len(dataloader)))"
   ]
  },
  {
   "cell_type": "code",
   "execution_count": null,
   "metadata": {
    "collapsed": true
   },
   "outputs": [],
   "source": []
  }
 ],
 "metadata": {
  "kernelspec": {
   "display_name": "Python 3",
   "language": "python",
   "name": "python3"
  },
  "language_info": {
   "codemirror_mode": {
    "name": "ipython",
    "version": 3
   },
   "file_extension": ".py",
   "mimetype": "text/x-python",
   "name": "python",
   "nbconvert_exporter": "python",
   "pygments_lexer": "ipython3",
   "version": "3.6.1"
  }
 },
 "nbformat": 4,
 "nbformat_minor": 2
}
