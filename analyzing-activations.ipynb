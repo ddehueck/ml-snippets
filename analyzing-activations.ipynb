{
 "cells": [
  {
   "cell_type": "code",
   "execution_count": 1,
   "metadata": {},
   "outputs": [],
   "source": [
    "import torch\n",
    "import torch.nn as nn\n",
    "import torch.nn.functional as F\n",
    "import torch.optim as optim\n",
    "import torchvision\n",
    "from torchvision import datasets, transforms\n",
    "import matplotlib.pyplot as plt\n",
    "import numpy as np\n",
    "import seaborn as sns\n",
    "%run ClassSpecificMNIST.py\n",
    "\n",
    "NUM_EPOCHS = 15\n",
    "BATCH_SIZE = 100\n",
    "LEARNING_RATE = 0.001\n",
    "HIDDEN_NODE_LAYER_SIZE = 100\n",
    "\n",
    "DEVICE = torch.device(\"cuda:0\" if torch.cuda.is_available() else \"cpu\")\n"
   ]
  },
  {
   "cell_type": "code",
   "execution_count": 2,
   "metadata": {},
   "outputs": [],
   "source": [
    "\"\"\"\n",
    "Load the MNIST data. Split into train and test sets.\n",
    "\"\"\"\n",
    "\n",
    "transform = transforms.Compose([\n",
    "    transforms.ToTensor(),\n",
    "    transforms.Normalize((0.5, 0.5, 0.5), (0.5, 0.5, 0.5))\n",
    "])\n",
    "\n",
    "# Train and test on all classes in MNIST\n",
    "trainset = ClassSpecificMNIST(root='./data', train=True, download=True, transform=transform)\n",
    "trainloader = torch.utils.data.DataLoader(trainset, batch_size=BATCH_SIZE, shuffle=True, num_workers=2)\n",
    "\n",
    "testset = ClassSpecificMNIST(root='./data', train=False, download=True, transform=transform)\n",
    "testloader = torch.utils.data.DataLoader(testset, batch_size=BATCH_SIZE, shuffle=False, num_workers=2)"
   ]
  },
  {
   "cell_type": "code",
   "execution_count": 3,
   "metadata": {
    "scrolled": true
   },
   "outputs": [
    {
     "name": "stdout",
     "output_type": "stream",
     "text": [
      "Labeled as: 6\n"
     ]
    },
    {
     "data": {
      "image/png": "[encoded data removed]",
      "text/plain": [
       "<matplotlib.figure.Figure at 0x7fd858645278>"
      ]
     },
     "metadata": {},
     "output_type": "display_data"
    }
   ],
   "source": [
    "\"\"\"\n",
    "Helper functions to view images.\n",
    "\"\"\"\n",
    "\n",
    "def imshow(img):\n",
    "    img = img / 2 + 0.5     # unnormalize - corresponds to transformation above.\n",
    "    npimg = img.numpy()\n",
    "    plt.imshow(np.transpose(npimg, (1, 2, 0)))\n",
    "    \n",
    "def heatshow(data):\n",
    "    fig, axis = plt.subplots()\n",
    "    heatmap = axis.pcolor(data, cmap=plt.cm.Blues)\n",
    "\n",
    "    axis.set_yticks(np.arange(data.shape[0])+0.5, minor=False)\n",
    "    axis.set_xticks(np.arange(data.shape[1])+0.5, minor=False)\n",
    "\n",
    "    axis.invert_yaxis()\n",
    "    fig.set_size_inches(50, 50)\n",
    "    plt.colorbar(heatmap)\n",
    "\n",
    "def view_recordings(recordings):\n",
    "    fig=plt.figure(figsize=(10, 10))\n",
    "    columns = 3\n",
    "    rows = 1\n",
    "    for i in range(1, columns*rows+1):\n",
    "        img = recordings[i-1][0]\n",
    "        heatshow(img)\n",
    "    plt.show()\n",
    "\n",
    "# get some random training images\n",
    "dataiter = iter(trainloader)\n",
    "images, labels = dataiter.next()\n",
    "\n",
    "# View a random image\n",
    "imshow(torchvision.utils.make_grid(images[0]))\n",
    "print('Labeled as:', labels[0].item())"
   ]
  },
  {
   "cell_type": "code",
   "execution_count": 4,
   "metadata": {},
   "outputs": [],
   "source": [
    "\"\"\"\n",
    "Define Model\n",
    "\"\"\"\n",
    "\n",
    "class MNISTModel(nn.Module):\n",
    "    \n",
    "    def __init__(self):\n",
    "        super(MNISTModel, self).__init__()\n",
    "        self.l1= nn.Linear(28*28, HIDDEN_NODE_LAYER_SIZE)\n",
    "        self.l2 = nn.Linear(HIDDEN_NODE_LAYER_SIZE, HIDDEN_NODE_LAYER_SIZE)\n",
    "        self.l3 = nn.Linear(HIDDEN_NODE_LAYER_SIZE, HIDDEN_NODE_LAYER_SIZE)\n",
    "        self.l4 = nn.Linear(HIDDEN_NODE_LAYER_SIZE, 10)\n",
    "        \n",
    "    def forward(self, x):\n",
    "        x = x.view(-1, 28*28)\n",
    "        x = F.sigmoid(self.l1(x))\n",
    "        r1 = torchvision.utils.make_grid(x.to(\"cpu\"))\n",
    "        \n",
    "        x = F.sigmoid(self.l2(x))\n",
    "        r2 = torchvision.utils.make_grid(x.to(\"cpu\"))\n",
    "        \n",
    "        x = F.sigmoid(self.l3(x))\n",
    "        r3 = torchvision.utils.make_grid(x.to(\"cpu\"))\n",
    "        \n",
    "        x = self.l4(x)\n",
    "        x = F.log_softmax(x, dim=1)\n",
    "        recordings = [r1, r2, r3]\n",
    "        \n",
    "        return x, recordings"
   ]
  },
  {
   "cell_type": "code",
   "execution_count": 5,
   "metadata": {},
   "outputs": [],
   "source": [
    "\"\"\"\n",
    "Instantiate a MNISTModel to be trained\n",
    "\"\"\"\n",
    "\n",
    "model = MNISTModel().to(DEVICE)\n",
    "optimizer = optim.Adam(model.parameters(), lr=LEARNING_RATE)\n",
    "criterion = nn.CrossEntropyLoss()"
   ]
  },
  {
   "cell_type": "code",
   "execution_count": 6,
   "metadata": {},
   "outputs": [
    {
     "name": "stdout",
     "output_type": "stream",
     "text": [
      "Epoch: 1 | loss: 0.108\n",
      "Epoch: 2 | loss: 0.033\n",
      "Epoch: 3 | loss: 0.023\n",
      "Epoch: 4 | loss: 0.017\n",
      "Epoch: 5 | loss: 0.014\n",
      "Epoch: 6 | loss: 0.012\n",
      "Epoch: 7 | loss: 0.011\n",
      "Epoch: 8 | loss: 0.010\n",
      "Epoch: 9 | loss: 0.009\n",
      "Epoch: 10 | loss: 0.008\n",
      "Epoch: 11 | loss: 0.007\n",
      "Epoch: 12 | loss: 0.007\n",
      "Epoch: 13 | loss: 0.006\n",
      "Epoch: 14 | loss: 0.006\n",
      "Epoch: 15 | loss: 0.005\n"
     ]
    }
   ],
   "source": [
    "\"\"\"\n",
    "Train model\n",
    "\"\"\"\n",
    "\n",
    "for epoch in range(0, NUM_EPOCHS):\n",
    "    running_loss = 0.0\n",
    "    for i, data in enumerate(trainloader, 0):\n",
    "        inputs, targets = data\n",
    "        inputs, targets = inputs.to(DEVICE), targets.to(DEVICE)\n",
    "\n",
    "        optimizer.zero_grad()\n",
    "\n",
    "        preds, recordings = model(inputs)\n",
    "        loss = criterion(preds, targets)\n",
    "        loss.backward()\n",
    "        optimizer.step()\n",
    "\n",
    "        # print statistics\n",
    "        running_loss += loss.item()\n",
    "    print('Epoch: %d | loss: %.3f' % (epoch + 1, running_loss / 5000))"
   ]
  },
  {
   "cell_type": "code",
   "execution_count": 7,
   "metadata": {},
   "outputs": [
    {
     "name": "stdout",
     "output_type": "stream",
     "text": [
      "Accuracy of the network on the test images: 97 %\n"
     ]
    }
   ],
   "source": [
    "\"\"\"\n",
    "Test model\n",
    "\"\"\"\n",
    "\n",
    "correct = 0\n",
    "total = 0\n",
    "with torch.no_grad():\n",
    "    for data in testloader:\n",
    "        inputs, targets = data\n",
    "        inputs, targets = inputs.to(DEVICE), targets.to(DEVICE)\n",
    "\n",
    "        preds, recordings = model(inputs)\n",
    "        _, predicted = torch.max(preds.data, 1) # max of logits\n",
    "        \n",
    "        total += targets.size(0)\n",
    "        correct += (predicted == targets).sum().item()\n",
    "\n",
    "print('Accuracy of the network on the test images: %d %%' % (100 * correct / total))\n"
   ]
  },
  {
   "cell_type": "code",
   "execution_count": 24,
   "metadata": {},
   "outputs": [],
   "source": [
    "# Create a single class dataloader\n",
    "fourset = ClassSpecificMNIST(root='./data', data_classes=[1], train=False, download=True, transform=transform)\n",
    "fourloader = torch.utils.data.DataLoader(fourset, batch_size=BATCH_SIZE, shuffle=False, num_workers=2)\n",
    "\n",
    "zeroset = ClassSpecificMNIST(root='./data', data_classes=[7], train=False, download=True, transform=transform)\n",
    "zeroloader = torch.utils.data.DataLoader(zeroset, batch_size=BATCH_SIZE, shuffle=False, num_workers=2)\n",
    "\n",
    "def get_recordings(model, dataloader, i=0):\n",
    "    with torch.no_grad():\n",
    "        for i, data in enumerate(dataloader):\n",
    "            inputs, targets = data\n",
    "            inputs, targets = inputs.to(DEVICE), targets.to(DEVICE)\n",
    "            preds, recordings = model(inputs)\n",
    "            if i == i:\n",
    "                return recordings"
   ]
  },
  {
   "cell_type": "code",
   "execution_count": 27,
   "metadata": {},
   "outputs": [
    {
     "name": "stdout",
     "output_type": "stream",
     "text": [
      "Fives:\n",
      "tensor(0.)\n",
      "tensor(0.)\n",
      "tensor(0.)\n",
      "\n",
      "Zeros:\n",
      "tensor(0.)\n",
      "tensor(0.)\n",
      "tensor(0.)\n",
      "\n",
      "Seven - Ones:\n",
      "tensor(-268.2905)\n",
      "tensor(-352.8438)\n",
      "tensor(-1125.4110)\n"
     ]
    }
   ],
   "source": [
    "\"\"\"\n",
    "Record activations of single class\n",
    "\"\"\"\n",
    "fours_recordings = get_recordings(model, fourloader)\n",
    "zeros_recordings = get_recordings(model, zeroloader)\n",
    "        \n",
    "# View a 200 batch sample\n",
    "#view_recordings(recordings)\n",
    "\n",
    "print('Fives:')\n",
    "for rec in fours_recordings:\n",
    "    print(torch.sum(rec - rec))\n",
    "    \n",
    "print('\\nZeros:')\n",
    "for rec in zeros_recordings:\n",
    "    print(torch.sum(rec - rec))\n",
    "    \n",
    "print('\\nSeven - Ones:')\n",
    "for zero_rec, fours_rec in zip(zeros_recordings, fours_recordings):\n",
    "    print(torch.sum(zero_rec - fours_rec))"
   ]
  },
  {
   "cell_type": "code",
   "execution_count": null,
   "metadata": {},
   "outputs": [],
   "source": []
  }
 ],
 "metadata": {
  "kernelspec": {
   "display_name": "Python 3",
   "language": "python",
   "name": "python3"
  },
  "language_info": {
   "codemirror_mode": {
    "name": "ipython",
    "version": 3
   },
   "file_extension": ".py",
   "mimetype": "text/x-python",
   "name": "python",
   "nbconvert_exporter": "python",
   "pygments_lexer": "ipython3",
   "version": "3.6.4"
  }
 },
 "nbformat": 4,
 "nbformat_minor": 2
}
